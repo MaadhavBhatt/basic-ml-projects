{
 "cells": [
  {
   "cell_type": "code",
   "execution_count": null,
   "metadata": {},
   "outputs": [],
   "source": [
    "import numpy as np\n",
    "import tensorflow as tf\n",
    "from tensorflow import keras\n",
    "from tensorflow.keras.models import Sequential # type: ignore\n",
    "from tensorflow.keras.layers import Activation, Dense, Flatten, BatchNormalization, Conv2D, MaxPool2D, Dropout # type: ignore\n",
    "from tensorflow.keras.optimizers import Adam # type: ignore\n",
    "from tensorflow.keras.metrics import categorical_crossentropy # type: ignore\n",
    "from tensorflow.keras.preprocessing.image import ImageDataGenerator # type: ignore\n",
    "from sklearn.metrics import confusion_matrix\n",
    "import itertools\n",
    "import os\n",
    "import shutil\n",
    "import random\n",
    "import glob\n",
    "import matplotlib.pyplot as plt\n",
    "import warnings\n",
    "# warnings.simplefilter(action='ignore', category=FutureWarning)\n",
    "%matplotlib inline"
   ]
  },
  {
   "cell_type": "code",
   "execution_count": null,
   "metadata": {},
   "outputs": [],
   "source": [
    "MODEL_PATH = \"cnn.keras\"\n",
    "PATH_SEPARATOR = \"\\\\\""
   ]
  },
  {
   "cell_type": "code",
   "execution_count": null,
   "metadata": {},
   "outputs": [],
   "source": [
    "# physical_devices = tf.config.experimental.list_physical_devices(\"GPU\")\n",
    "# print(\"Num GPUs Available: \", len(physical_devices))\n",
    "# tf.config.experimental.set_memory_growth(physical_devices[0], True)"
   ]
  },
  {
   "cell_type": "markdown",
   "metadata": {},
   "source": [
    "# Data"
   ]
  },
  {
   "cell_type": "code",
   "execution_count": null,
   "metadata": {},
   "outputs": [],
   "source": [
    "os.getcwd()"
   ]
  },
  {
   "cell_type": "code",
   "execution_count": null,
   "metadata": {},
   "outputs": [],
   "source": [
    "os.chdir(\"../../datasets/dogs-vs-cats\")\n",
    "\n",
    "\n",
    "if os.getcwd().split(PATH_SEPARATOR)[-1] == \"dogs-vs-cats\":\n",
    "    if not os.path.isdir(\"train/dog\"):\n",
    "        os.makedirs(\"train/dog\", exist_ok=True)\n",
    "        os.makedirs(\"train/cat\", exist_ok=True)\n",
    "        os.makedirs(\"valid/dog\", exist_ok=True)\n",
    "        os.makedirs(\"valid/cat\", exist_ok=True)\n",
    "        os.makedirs(\"test/dog\", exist_ok=True)\n",
    "        os.makedirs(\"test/cat\", exist_ok=True)\n",
    "\n",
    "    if len(os.listdir(\"test/cat\")) == 0:\n",
    "        for c in random.sample(glob.glob(\"dog*\"), 500):\n",
    "            shutil.move(c, \"train/dog\")\n",
    "        for c in random.sample(glob.glob(\"cat*\"), 500):\n",
    "            shutil.move(c, \"train/cat\")\n",
    "        for c in random.sample(glob.glob(\"dog*\"), 100):\n",
    "            shutil.move(c, \"valid/dog\")\n",
    "        for c in random.sample(glob.glob(\"cat*\"), 100):\n",
    "            shutil.move(c, \"valid/cat\")\n",
    "        for c in random.sample(glob.glob(\"dog*\"), 50):\n",
    "            shutil.move(c, \"test/dog\")\n",
    "        for c in random.sample(glob.glob(\"cat*\"), 50):\n",
    "            shutil.move(c, \"test/cat\")\n",
    "\n",
    "        os.makedirs(\"data\", exist_ok=True)\n",
    "        excluded_dirs = [\"data\", \"train\", \"valid\", \"test\"]\n",
    "        remaining_images = [item for item in os.listdir() if item not in excluded_dirs]\n",
    "        for c in remaining_images:\n",
    "            shutil.move(c, \"data\")\n",
    "\n",
    "    os.chdir(\"../../\")"
   ]
  },
  {
   "cell_type": "code",
   "execution_count": null,
   "metadata": {},
   "outputs": [],
   "source": [
    "TRAIN_PATH = \"datasets/dogs-vs-cats/train\"\n",
    "VALID_PATH = \"datasets/dogs-vs-cats/valid\"\n",
    "TEST_PATH = \"datasets/dogs-vs-cats/test\""
   ]
  },
  {
   "cell_type": "code",
   "execution_count": null,
   "metadata": {},
   "outputs": [],
   "source": [
    "train_batches = ImageDataGenerator(\n",
    "    preprocessing_function=tf.keras.applications.vgg16.preprocess_input\n",
    ").flow_from_directory(\n",
    "    directory=TRAIN_PATH, target_size=(224, 224), classes=[\"cat\", \"dog\"], batch_size=10\n",
    ")\n",
    "\n",
    "valid_batches = ImageDataGenerator(\n",
    "    preprocessing_function=tf.keras.applications.vgg16.preprocess_input\n",
    ").flow_from_directory(\n",
    "    directory=VALID_PATH, target_size=(224, 224), classes=[\"cat\", \"dog\"], batch_size=10\n",
    ")\n",
    "\n",
    "test_batches = ImageDataGenerator(\n",
    "    preprocessing_function=tf.keras.applications.vgg16.preprocess_input\n",
    ").flow_from_directory(\n",
    "    directory=TEST_PATH,\n",
    "    target_size=(224, 224),\n",
    "    classes=[\"cat\", \"dog\"],\n",
    "    batch_size=10,\n",
    "    shuffle=False,\n",
    ")"
   ]
  },
  {
   "cell_type": "code",
   "execution_count": null,
   "metadata": {},
   "outputs": [],
   "source": [
    "assert train_batches.n == 1000\n",
    "assert valid_batches.n == 200\n",
    "assert test_batches.n == 100\n",
    "assert (\n",
    "    train_batches.num_classes\n",
    "    == valid_batches.num_classes\n",
    "    == test_batches.num_classes\n",
    "    == 2\n",
    ")"
   ]
  },
  {
   "cell_type": "code",
   "execution_count": null,
   "metadata": {},
   "outputs": [],
   "source": [
    "def plot_images(images_arr):\n",
    "    fig, axes = plt.subplots(1, 10, figsize=(20, 20))\n",
    "    axes = axes.flatten()\n",
    "    for img, ax in zip(images_arr, axes):\n",
    "        ax.imshow(img)\n",
    "        ax.axis(\"off\")\n",
    "    plt.tight_layout()\n",
    "    plt.show()"
   ]
  },
  {
   "cell_type": "code",
   "execution_count": null,
   "metadata": {},
   "outputs": [],
   "source": [
    "imgs, labels = next(train_batches)\n",
    "plot_images(imgs)\n",
    "print(labels)"
   ]
  },
  {
   "cell_type": "markdown",
   "metadata": {},
   "source": [
    "# CNN"
   ]
  },
  {
   "cell_type": "code",
   "execution_count": null,
   "metadata": {},
   "outputs": [],
   "source": [
    "model = Sequential(\n",
    "    [\n",
    "        Conv2D(\n",
    "            filters=32,\n",
    "            kernel_size=(3, 3),\n",
    "            activation=\"relu\",\n",
    "            padding=\"same\",\n",
    "            input_shape=(224, 224, 3),\n",
    "        ),\n",
    "        MaxPool2D(pool_size=(2, 2), strides=2),\n",
    "        # Dropout(0.2),\n",
    "        Conv2D(filters=64, kernel_size=(3, 3), activation=\"relu\", padding=\"same\"),\n",
    "        MaxPool2D(pool_size=(2, 2), strides=2),\n",
    "        # Dropout(0.2),\n",
    "        Flatten(),\n",
    "        Dense(2, activation=\"softmax\"),\n",
    "    ]\n",
    ")"
   ]
  },
  {
   "cell_type": "code",
   "execution_count": null,
   "metadata": {},
   "outputs": [],
   "source": [
    "model.summary()\n",
    "model.compile(\n",
    "    optimizer=Adam(learning_rate=0.001),\n",
    "    loss=\"categorical_crossentropy\",\n",
    "    metrics=[\"accuracy\"],\n",
    ")"
   ]
  },
  {
   "cell_type": "code",
   "execution_count": null,
   "metadata": {},
   "outputs": [],
   "source": [
    "model.fit(train_batches, validation_data=valid_batches, epochs=10, verbose=2)"
   ]
  },
  {
   "cell_type": "markdown",
   "metadata": {},
   "source": [
    "# Prediction"
   ]
  },
  {
   "cell_type": "code",
   "execution_count": null,
   "metadata": {},
   "outputs": [],
   "source": [
    "test_imgs, test_labels = next(test_batches)\n",
    "plot_images(test_imgs)\n",
    "print(test_labels)"
   ]
  },
  {
   "cell_type": "code",
   "execution_count": null,
   "metadata": {},
   "outputs": [],
   "source": [
    "test_batches.classes"
   ]
  },
  {
   "cell_type": "code",
   "execution_count": null,
   "metadata": {},
   "outputs": [],
   "source": [
    "predictions = model.predict(test_batches, verbose=0)\n",
    "rounded_predictions = np.round(predictions)\n",
    "rounded_predictions"
   ]
  },
  {
   "cell_type": "code",
   "execution_count": null,
   "metadata": {},
   "outputs": [],
   "source": [
    "def plot_confusion_matrix(\n",
    "    cm, classes, normalize=False, title=\"Confusion Matrix\", cmap=plt.cm.Blues\n",
    "):\n",
    "    \"\"\"\n",
    "    This function prints and plots the confusion matrix.\n",
    "    Normalization can be applied by setting `normalize=True`.\n",
    "    \"\"\"\n",
    "    plt.imshow(cm, interpolation=\"nearest\", cmap=cmap)\n",
    "    plt.title(title)\n",
    "    plt.colorbar()\n",
    "    tick_marks = np.arange(len(classes))\n",
    "    plt.xticks(tick_marks, classes, rotation=45)\n",
    "    plt.yticks(tick_marks, classes)\n",
    "\n",
    "    if normalize:\n",
    "        cm = cm.astype(\"float\") / cm.sum(axis=1)[:, np.newaxis]\n",
    "        print(\"Normalized confusion matrix\")\n",
    "    else:\n",
    "        print(\"Confusion matrix, without normalization\")\n",
    "\n",
    "    print(cm)\n",
    "\n",
    "    thresh = cm.max() / 2\n",
    "    for i, j in itertools.product(range(cm.shape[0]), range(cm.shape[1])):\n",
    "        plt.text(\n",
    "            j,\n",
    "            i,\n",
    "            cm[i, j],\n",
    "            horizontalalignment=\"center\",\n",
    "            color=\"white\" if cm[i, j] > thresh else \"black\",\n",
    "        )\n",
    "\n",
    "    plt.tight_layout()\n",
    "    plt.ylabel(\"True label\")\n",
    "    plt.xlabel(\"Predicted label\")"
   ]
  },
  {
   "cell_type": "code",
   "execution_count": null,
   "metadata": {},
   "outputs": [],
   "source": [
    "cm = confusion_matrix(\n",
    "    y_true=test_batches.classes, y_pred=np.argmax(rounded_predictions, axis=-1)\n",
    ")"
   ]
  },
  {
   "cell_type": "code",
   "execution_count": null,
   "metadata": {},
   "outputs": [],
   "source": [
    "test_batches.class_indices"
   ]
  },
  {
   "cell_type": "code",
   "execution_count": null,
   "metadata": {},
   "outputs": [],
   "source": [
    "plot_confusion_matrix(cm=cm, classes=[\"cat\", \"dog\"])"
   ]
  },
  {
   "cell_type": "markdown",
   "metadata": {},
   "source": [
    "# Save Model"
   ]
  },
  {
   "cell_type": "code",
   "execution_count": null,
   "metadata": {},
   "outputs": [],
   "source": [
    "try:\n",
    "    if os.getcwd().split(PATH_SEPARATOR)[-1] != \"keras_freeCodeCamp\":\n",
    "        os.chdir(\"_tutorials/keras_freeCodeCamp\")\n",
    "    model.save(MODEL_PATH)\n",
    "except Exception as e:\n",
    "    print(e)\n",
    "    print(\"Current working directory is: \", os.getcwd())\n",
    "    print(\"Model not saved.\")"
   ]
  },
  {
   "cell_type": "markdown",
   "metadata": {},
   "source": [
    "# Load Model"
   ]
  },
  {
   "cell_type": "code",
   "execution_count": null,
   "metadata": {},
   "outputs": [],
   "source": [
    "try:\n",
    "    if os.getcwd().split(PATH_SEPARATOR)[-1] != \"keras_freeCodeCamp\":\n",
    "        os.chdir(\"_tutorials/keras_freeCodeCamp\")\n",
    "    model = keras.models.load_model(MODEL_PATH)\n",
    "    model.summary()\n",
    "except Exception as e:\n",
    "    print(e)\n",
    "    print(\"Current working directory is: \", os.getcwd())\n",
    "    print(\"Model not loaded.\")"
   ]
  }
 ],
 "metadata": {
  "kernelspec": {
   "display_name": "basic-ml-projects",
   "language": "python",
   "name": "python3"
  },
  "language_info": {
   "codemirror_mode": {
    "name": "ipython",
    "version": 3
   },
   "file_extension": ".py",
   "mimetype": "text/x-python",
   "name": "python",
   "nbconvert_exporter": "python",
   "pygments_lexer": "ipython3",
   "version": "3.12.6"
  }
 },
 "nbformat": 4,
 "nbformat_minor": 2
}
